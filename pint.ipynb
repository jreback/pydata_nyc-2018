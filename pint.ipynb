{
 "cells": [
  {
   "cell_type": "code",
   "execution_count": 1,
   "metadata": {
    "slideshow": {
     "slide_type": "slide"
    }
   },
   "outputs": [
    {
     "data": {
      "text/plain": [
       "'0.24.0.dev0+715.g187659901'"
      ]
     },
     "execution_count": 1,
     "metadata": {},
     "output_type": "execute_result"
    }
   ],
   "source": [
    "import io\n",
    "import pandas as pd\n",
    "pd.__version__"
   ]
  },
  {
   "cell_type": "code",
   "execution_count": 2,
   "metadata": {},
   "outputs": [
    {
     "data": {
      "text/plain": [
       "'0.9.dev0'"
      ]
     },
     "execution_count": 2,
     "metadata": {},
     "output_type": "execute_result"
    }
   ],
   "source": [
    "import pint\n",
    "import pint.pandas_interface as ppi\n",
    "ureg = pint.UnitRegistry()\n",
    "pint.__version__"
   ]
  },
  {
   "cell_type": "markdown",
   "metadata": {
    "slideshow": {
     "slide_type": "slide"
    }
   },
   "source": [
    "### Creation"
   ]
  },
  {
   "cell_type": "code",
   "execution_count": 3,
   "metadata": {},
   "outputs": [],
   "source": [
    "data = \"\"\"speed,mech power,torque,rail pressure,fuel flow rate,fluid power\n",
    "rpm,kW,N m,bar,l/min,kW\n",
    "1000,,10,1000,10,\n",
    "1100,,10,1000000000000,10,\n",
    "1200,,10,1000,10,\n",
    "1200,,10,1000,10,\"\"\""
   ]
  },
  {
   "cell_type": "code",
   "execution_count": 4,
   "metadata": {
    "slideshow": {
     "slide_type": "subslide"
    }
   },
   "outputs": [
    {
     "data": {
      "text/html": [
       "<div>\n",
       "<style scoped>\n",
       "    .dataframe tbody tr th:only-of-type {\n",
       "        vertical-align: middle;\n",
       "    }\n",
       "\n",
       "    .dataframe tbody tr th {\n",
       "        vertical-align: top;\n",
       "    }\n",
       "\n",
       "    .dataframe thead th {\n",
       "        text-align: right;\n",
       "    }\n",
       "</style>\n",
       "<table border=\"1\" class=\"dataframe\">\n",
       "  <thead>\n",
       "    <tr style=\"text-align: right;\">\n",
       "      <th></th>\n",
       "      <th>speed</th>\n",
       "      <th>mech power</th>\n",
       "      <th>torque</th>\n",
       "      <th>rail pressure</th>\n",
       "      <th>fuel flow rate</th>\n",
       "      <th>fluid power</th>\n",
       "    </tr>\n",
       "  </thead>\n",
       "  <tbody>\n",
       "    <tr>\n",
       "      <th>0</th>\n",
       "      <td>1000.0</td>\n",
       "      <td>nan</td>\n",
       "      <td>10.0</td>\n",
       "      <td>1000.0</td>\n",
       "      <td>10.0</td>\n",
       "      <td>nan</td>\n",
       "    </tr>\n",
       "    <tr>\n",
       "      <th>1</th>\n",
       "      <td>1100.0</td>\n",
       "      <td>nan</td>\n",
       "      <td>10.0</td>\n",
       "      <td>1000000000000.0</td>\n",
       "      <td>10.0</td>\n",
       "      <td>nan</td>\n",
       "    </tr>\n",
       "    <tr>\n",
       "      <th>2</th>\n",
       "      <td>1200.0</td>\n",
       "      <td>nan</td>\n",
       "      <td>10.0</td>\n",
       "      <td>1000.0</td>\n",
       "      <td>10.0</td>\n",
       "      <td>nan</td>\n",
       "    </tr>\n",
       "    <tr>\n",
       "      <th>3</th>\n",
       "      <td>1200.0</td>\n",
       "      <td>nan</td>\n",
       "      <td>10.0</td>\n",
       "      <td>1000.0</td>\n",
       "      <td>10.0</td>\n",
       "      <td>nan</td>\n",
       "    </tr>\n",
       "  </tbody>\n",
       "</table>\n",
       "</div>"
      ],
      "text/plain": [
       "    speed mech power torque    rail pressure fuel flow rate fluid power\n",
       "0  1000.0        nan   10.0           1000.0           10.0         nan\n",
       "1  1100.0        nan   10.0  1000000000000.0           10.0         nan\n",
       "2  1200.0        nan   10.0           1000.0           10.0         nan\n",
       "3  1200.0        nan   10.0           1000.0           10.0         nan"
      ]
     },
     "execution_count": 4,
     "metadata": {},
     "output_type": "execute_result"
    }
   ],
   "source": [
    "df = pd.read_csv(io.StringIO(data), header=[0,1])\n",
    "df = df.pint.quantify(ureg, level=-1)\n",
    "df"
   ]
  },
  {
   "cell_type": "code",
   "execution_count": 5,
   "metadata": {
    "slideshow": {
     "slide_type": "fragment"
    }
   },
   "outputs": [
    {
     "data": {
      "text/plain": [
       "speed             pint\n",
       "mech power        pint\n",
       "torque            pint\n",
       "rail pressure     pint\n",
       "fuel flow rate    pint\n",
       "fluid power       pint\n",
       "dtype: object"
      ]
     },
     "execution_count": 5,
     "metadata": {},
     "output_type": "execute_result"
    }
   ],
   "source": [
    "df.dtypes"
   ]
  },
  {
   "cell_type": "markdown",
   "metadata": {
    "slideshow": {
     "slide_type": "slide"
    }
   },
   "source": [
    "### Operations"
   ]
  },
  {
   "cell_type": "code",
   "execution_count": 6,
   "metadata": {
    "slideshow": {
     "slide_type": "fragment"
    }
   },
   "outputs": [
    {
     "data": {
      "text/html": [
       "<div>\n",
       "<style scoped>\n",
       "    .dataframe tbody tr th:only-of-type {\n",
       "        vertical-align: middle;\n",
       "    }\n",
       "\n",
       "    .dataframe tbody tr th {\n",
       "        vertical-align: top;\n",
       "    }\n",
       "\n",
       "    .dataframe thead tr th {\n",
       "        text-align: left;\n",
       "    }\n",
       "</style>\n",
       "<table border=\"1\" class=\"dataframe\">\n",
       "  <thead>\n",
       "    <tr>\n",
       "      <th></th>\n",
       "      <th>speed</th>\n",
       "      <th>mech power</th>\n",
       "      <th>torque</th>\n",
       "      <th>rail pressure</th>\n",
       "      <th>fuel flow rate</th>\n",
       "      <th>fluid power</th>\n",
       "    </tr>\n",
       "    <tr>\n",
       "      <th></th>\n",
       "      <th>revolutions_per_minute</th>\n",
       "      <th>meter * newton * revolutions_per_minute</th>\n",
       "      <th>meter * newton</th>\n",
       "      <th>bar</th>\n",
       "      <th>liter / minute</th>\n",
       "      <th>bar * liter / minute</th>\n",
       "    </tr>\n",
       "  </thead>\n",
       "  <tbody>\n",
       "    <tr>\n",
       "      <th>0</th>\n",
       "      <td>1000.0</td>\n",
       "      <td>10000.0</td>\n",
       "      <td>10.0</td>\n",
       "      <td>1.000000e+03</td>\n",
       "      <td>10.0</td>\n",
       "      <td>1.000000e+04</td>\n",
       "    </tr>\n",
       "    <tr>\n",
       "      <th>1</th>\n",
       "      <td>1100.0</td>\n",
       "      <td>11000.0</td>\n",
       "      <td>10.0</td>\n",
       "      <td>1.000000e+12</td>\n",
       "      <td>10.0</td>\n",
       "      <td>1.000000e+13</td>\n",
       "    </tr>\n",
       "    <tr>\n",
       "      <th>2</th>\n",
       "      <td>1200.0</td>\n",
       "      <td>12000.0</td>\n",
       "      <td>10.0</td>\n",
       "      <td>1.000000e+03</td>\n",
       "      <td>10.0</td>\n",
       "      <td>1.000000e+04</td>\n",
       "    </tr>\n",
       "    <tr>\n",
       "      <th>3</th>\n",
       "      <td>1200.0</td>\n",
       "      <td>12000.0</td>\n",
       "      <td>10.0</td>\n",
       "      <td>1.000000e+03</td>\n",
       "      <td>10.0</td>\n",
       "      <td>1.000000e+04</td>\n",
       "    </tr>\n",
       "  </tbody>\n",
       "</table>\n",
       "</div>"
      ],
      "text/plain": [
       "                   speed                              mech power  \\\n",
       "  revolutions_per_minute meter * newton * revolutions_per_minute   \n",
       "0                 1000.0                                 10000.0   \n",
       "1                 1100.0                                 11000.0   \n",
       "2                 1200.0                                 12000.0   \n",
       "3                 1200.0                                 12000.0   \n",
       "\n",
       "          torque rail pressure fuel flow rate          fluid power  \n",
       "  meter * newton           bar liter / minute bar * liter / minute  \n",
       "0           10.0  1.000000e+03           10.0         1.000000e+04  \n",
       "1           10.0  1.000000e+12           10.0         1.000000e+13  \n",
       "2           10.0  1.000000e+03           10.0         1.000000e+04  \n",
       "3           10.0  1.000000e+03           10.0         1.000000e+04  "
      ]
     },
     "execution_count": 6,
     "metadata": {},
     "output_type": "execute_result"
    }
   ],
   "source": [
    "df['mech power'] = df.speed*df.torque\n",
    "df['fluid power'] = df['fuel flow rate'] * df['rail pressure']\n",
    "df.pint.dequantify()"
   ]
  },
  {
   "cell_type": "code",
   "execution_count": 7,
   "metadata": {
    "slideshow": {
     "slide_type": "subslide"
    }
   },
   "outputs": [
    {
     "data": {
      "text/html": [
       "<div>\n",
       "<style scoped>\n",
       "    .dataframe tbody tr th:only-of-type {\n",
       "        vertical-align: middle;\n",
       "    }\n",
       "\n",
       "    .dataframe tbody tr th {\n",
       "        vertical-align: top;\n",
       "    }\n",
       "\n",
       "    .dataframe thead tr th {\n",
       "        text-align: left;\n",
       "    }\n",
       "</style>\n",
       "<table border=\"1\" class=\"dataframe\">\n",
       "  <thead>\n",
       "    <tr>\n",
       "      <th></th>\n",
       "      <th>speed</th>\n",
       "      <th>mech power</th>\n",
       "      <th>torque</th>\n",
       "      <th>rail pressure</th>\n",
       "      <th>fuel flow rate</th>\n",
       "      <th>fluid power</th>\n",
       "    </tr>\n",
       "    <tr>\n",
       "      <th></th>\n",
       "      <th>radian / second</th>\n",
       "      <th>kilogram * meter ** 2 / second ** 3</th>\n",
       "      <th>kilogram * meter ** 2 / second ** 2</th>\n",
       "      <th>kilogram / meter / second ** 2</th>\n",
       "      <th>meter ** 3 / second</th>\n",
       "      <th>kilogram * meter ** 2 / second ** 3</th>\n",
       "    </tr>\n",
       "  </thead>\n",
       "  <tbody>\n",
       "    <tr>\n",
       "      <th>0</th>\n",
       "      <td>104.719755</td>\n",
       "      <td>1047.197551</td>\n",
       "      <td>10.0</td>\n",
       "      <td>1.000000e+08</td>\n",
       "      <td>0.000167</td>\n",
       "      <td>1.666667e+04</td>\n",
       "    </tr>\n",
       "    <tr>\n",
       "      <th>1</th>\n",
       "      <td>115.191731</td>\n",
       "      <td>1151.917306</td>\n",
       "      <td>10.0</td>\n",
       "      <td>1.000000e+17</td>\n",
       "      <td>0.000167</td>\n",
       "      <td>1.666667e+13</td>\n",
       "    </tr>\n",
       "    <tr>\n",
       "      <th>2</th>\n",
       "      <td>125.663706</td>\n",
       "      <td>1256.637061</td>\n",
       "      <td>10.0</td>\n",
       "      <td>1.000000e+08</td>\n",
       "      <td>0.000167</td>\n",
       "      <td>1.666667e+04</td>\n",
       "    </tr>\n",
       "    <tr>\n",
       "      <th>3</th>\n",
       "      <td>125.663706</td>\n",
       "      <td>1256.637061</td>\n",
       "      <td>10.0</td>\n",
       "      <td>1.000000e+08</td>\n",
       "      <td>0.000167</td>\n",
       "      <td>1.666667e+04</td>\n",
       "    </tr>\n",
       "  </tbody>\n",
       "</table>\n",
       "</div>"
      ],
      "text/plain": [
       "            speed                          mech power  \\\n",
       "  radian / second kilogram * meter ** 2 / second ** 3   \n",
       "0      104.719755                         1047.197551   \n",
       "1      115.191731                         1151.917306   \n",
       "2      125.663706                         1256.637061   \n",
       "3      125.663706                         1256.637061   \n",
       "\n",
       "                               torque                  rail pressure  \\\n",
       "  kilogram * meter ** 2 / second ** 2 kilogram / meter / second ** 2   \n",
       "0                                10.0                   1.000000e+08   \n",
       "1                                10.0                   1.000000e+17   \n",
       "2                                10.0                   1.000000e+08   \n",
       "3                                10.0                   1.000000e+08   \n",
       "\n",
       "       fuel flow rate                         fluid power  \n",
       "  meter ** 3 / second kilogram * meter ** 2 / second ** 3  \n",
       "0            0.000167                        1.666667e+04  \n",
       "1            0.000167                        1.666667e+13  \n",
       "2            0.000167                        1.666667e+04  \n",
       "3            0.000167                        1.666667e+04  "
      ]
     },
     "execution_count": 7,
     "metadata": {},
     "output_type": "execute_result"
    }
   ],
   "source": [
    "df['fluid power'] = df['fluid power'].pint.to(\"kW\")\n",
    "df['mech power'] = df['mech power'].pint.to(\"kW\")\n",
    "df.pint.to_base_units().pint.dequantify()"
   ]
  },
  {
   "cell_type": "code",
   "execution_count": 8,
   "metadata": {
    "slideshow": {
     "slide_type": "subslide"
    }
   },
   "outputs": [
    {
     "data": {
      "text/html": [
       "<div>\n",
       "<style scoped>\n",
       "    .dataframe tbody tr th:only-of-type {\n",
       "        vertical-align: middle;\n",
       "    }\n",
       "\n",
       "    .dataframe tbody tr th {\n",
       "        vertical-align: top;\n",
       "    }\n",
       "\n",
       "    .dataframe thead th {\n",
       "        text-align: right;\n",
       "    }\n",
       "</style>\n",
       "<table border=\"1\" class=\"dataframe\">\n",
       "  <thead>\n",
       "    <tr style=\"text-align: right;\">\n",
       "      <th></th>\n",
       "      <th>speed</th>\n",
       "      <th>mech power</th>\n",
       "      <th>torque</th>\n",
       "      <th>rail pressure</th>\n",
       "      <th>fuel flow rate</th>\n",
       "      <th>fluid power</th>\n",
       "    </tr>\n",
       "  </thead>\n",
       "  <tbody>\n",
       "    <tr>\n",
       "      <th>0</th>\n",
       "      <td>1000.0</td>\n",
       "      <td>1.0471975511965979</td>\n",
       "      <td>10.0</td>\n",
       "      <td>1000.0</td>\n",
       "      <td>10.0</td>\n",
       "      <td>16.666666666666668</td>\n",
       "    </tr>\n",
       "    <tr>\n",
       "      <th>1</th>\n",
       "      <td>1100.0</td>\n",
       "      <td>1.1519173063162575</td>\n",
       "      <td>10.0</td>\n",
       "      <td>1000000000000.0</td>\n",
       "      <td>10.0</td>\n",
       "      <td>16666666666.666668</td>\n",
       "    </tr>\n",
       "    <tr>\n",
       "      <th>2</th>\n",
       "      <td>1200.0</td>\n",
       "      <td>1.2566370614359172</td>\n",
       "      <td>10.0</td>\n",
       "      <td>1000.0</td>\n",
       "      <td>10.0</td>\n",
       "      <td>16.666666666666668</td>\n",
       "    </tr>\n",
       "    <tr>\n",
       "      <th>3</th>\n",
       "      <td>1200.0</td>\n",
       "      <td>1.2566370614359172</td>\n",
       "      <td>10.0</td>\n",
       "      <td>1000.0</td>\n",
       "      <td>10.0</td>\n",
       "      <td>16.666666666666668</td>\n",
       "    </tr>\n",
       "  </tbody>\n",
       "</table>\n",
       "</div>"
      ],
      "text/plain": [
       "    speed          mech power torque    rail pressure fuel flow rate  \\\n",
       "0  1000.0  1.0471975511965979   10.0           1000.0           10.0   \n",
       "1  1100.0  1.1519173063162575   10.0  1000000000000.0           10.0   \n",
       "2  1200.0  1.2566370614359172   10.0           1000.0           10.0   \n",
       "3  1200.0  1.2566370614359172   10.0           1000.0           10.0   \n",
       "\n",
       "          fluid power  \n",
       "0  16.666666666666668  \n",
       "1  16666666666.666668  \n",
       "2  16.666666666666668  \n",
       "3  16.666666666666668  "
      ]
     },
     "execution_count": 8,
     "metadata": {},
     "output_type": "execute_result"
    }
   ],
   "source": [
    "df"
   ]
  },
  {
   "cell_type": "markdown",
   "metadata": {
    "slideshow": {
     "slide_type": "slide"
    }
   },
   "source": [
    "### Implementation"
   ]
  },
  {
   "cell_type": "code",
   "execution_count": 9,
   "metadata": {
    "slideshow": {
     "slide_type": "fragment"
    }
   },
   "outputs": [
    {
     "data": {
      "text/plain": [
       "PintArray([1.0471975511965979 kilowatt, 1.1519173063162575 kilowatt,\n",
       "           1.2566370614359172 kilowatt, 1.2566370614359172 kilowatt],\n",
       "          dtype='pint')"
      ]
     },
     "execution_count": 9,
     "metadata": {},
     "output_type": "execute_result"
    }
   ],
   "source": [
    "df['mech power'].values"
   ]
  },
  {
   "cell_type": "code",
   "execution_count": 10,
   "metadata": {
    "slideshow": {
     "slide_type": "fragment"
    }
   },
   "outputs": [
    {
     "data": {
      "text/plain": [
       "<pint.pandas_interface.pint_array.PintType at 0x113170d68>"
      ]
     },
     "execution_count": 10,
     "metadata": {},
     "output_type": "execute_result"
    }
   ],
   "source": [
    "df['mech power'].values.dtype"
   ]
  }
 ],
 "metadata": {
  "celltoolbar": "Slideshow",
  "kernelspec": {
   "display_name": "Environment (conda_pandas)",
   "language": "python",
   "name": "conda_pandas"
  },
  "language_info": {
   "codemirror_mode": {
    "name": "ipython",
    "version": 3
   },
   "file_extension": ".py",
   "mimetype": "text/x-python",
   "name": "python",
   "nbconvert_exporter": "python",
   "pygments_lexer": "ipython3",
   "version": "3.6.3"
  }
 },
 "nbformat": 4,
 "nbformat_minor": 2
}
